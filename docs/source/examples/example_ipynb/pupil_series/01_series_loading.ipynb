{
 "cells": [
  {
   "cell_type": "markdown",
   "id": "9fe4d158",
   "metadata": {},
   "source": [
    "# Loading Pupil Series Data\n",
    "\n",
    "This notebook demonstrates how to load continuous pupillometry recordings:\n",
    "- Loading real series data\n",
    "- Understanding series structure\n",
    "- Inspecting multiple stimuli\n",
    "- Basic series properties"
   ]
  },
  {
   "cell_type": "code",
   "execution_count": null,
   "id": "37017494",
   "metadata": {},
   "outputs": [],
   "source": [
    "# Import necessary libraries\n",
    "import matplotlib.pyplot as plt\n",
    "import numpy as np\n",
    "\n",
    "from pypipr.data import load_real_series\n",
    "from pypipr.core import PupilSeries"
   ]
  },
  {
   "cell_type": "code",
   "execution_count": null,
   "id": "b4d4217a",
   "metadata": {},
   "outputs": [],
   "source": [
    "# Load series data\n",
    "# TODO: Load real series data"
   ]
  },
  {
   "cell_type": "code",
   "execution_count": null,
   "id": "0f57912f",
   "metadata": {},
   "outputs": [],
   "source": [
    "# Inspect series properties\n",
    "# TODO: Show time range, number of stimuli, etc."
   ]
  },
  {
   "cell_type": "code",
   "execution_count": null,
   "id": "0731c9f6",
   "metadata": {},
   "outputs": [],
   "source": [
    "# Visualize full series\n",
    "# TODO: Plot entire series with stimulus markers"
   ]
  },
  {
   "cell_type": "code",
   "execution_count": null,
   "id": "24ff7ca9",
   "metadata": {},
   "outputs": [],
   "source": [
    "# Create custom series\n",
    "# TODO: Show how to create PupilSeries from arrays"
   ]
  }
 ],
 "metadata": {
  "language_info": {
   "name": "python"
  }
 },
 "nbformat": 4,
 "nbformat_minor": 5
}
