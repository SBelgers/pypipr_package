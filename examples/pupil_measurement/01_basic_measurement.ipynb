{
 "cells": [
  {
   "cell_type": "markdown",
   "id": "7134b1dc",
   "metadata": {},
   "source": [
    "# Basic Pupil Measurement Operations\n",
    "\n",
    "This notebook demonstrates basic operations with PupilMeasurement objects:\n",
    "- Loading simulated data\n",
    "- Basic data inspection\n",
    "- Simple operations (trimming, interpolation)\n",
    "- Basic visualization"
   ]
  },
  {
   "cell_type": "code",
   "execution_count": null,
   "id": "b563221f",
   "metadata": {},
   "outputs": [],
   "source": [
    "# Import necessary libraries\n",
    "import matplotlib.pyplot as plt\n",
    "import numpy as np\n",
    "\n",
    "import pypipr"
   ]
  },
  {
   "cell_type": "code",
   "execution_count": null,
   "id": "44d20bde",
   "metadata": {},
   "outputs": [],
   "source": [
    "# Load sample data\n",
    "pupil = load_simulated_pupil()"
   ]
  },
  {
   "cell_type": "code",
   "execution_count": null,
   "id": "61eab7d5",
   "metadata": {},
   "outputs": [],
   "source": [
    "# Basic data inspection\n",
    "print(f\"Range of pupil sizes: {min(pupil.get_size())} to {max(pupil.get_size())}\")\n",
    "print(f\"Duration of measurement: from {min(pupil.get_time())} to {max(pupil.get_time())}\")"
   ]
  },
  {
   "cell_type": "code",
   "execution_count": null,
   "id": "4a093c28",
   "metadata": {},
   "outputs": [],
   "source": [
    "# Basic operations\n",
    "# TODO: Demonstrate trimming, interpolation, etc."
   ]
  },
  {
   "cell_type": "code",
   "execution_count": null,
   "id": "275a6dd3",
   "metadata": {},
   "outputs": [],
   "source": [
    "# Basic visualization\n",
    "# TODO: Create simple plots"
   ]
  }
 ],
 "metadata": {
  "kernelspec": {
   "display_name": "venv.nosync",
   "language": "python",
   "name": "python3"
  },
  "language_info": {
   "codemirror_mode": {
    "name": "ipython",
    "version": 3
   },
   "file_extension": ".py",
   "mimetype": "text/x-python",
   "name": "python",
   "nbconvert_exporter": "python",
   "pygments_lexer": "ipython3",
   "version": "3.13.5"
  }
 },
 "nbformat": 4,
 "nbformat_minor": 5
}
